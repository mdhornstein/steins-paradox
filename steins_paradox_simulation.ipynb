{
  "nbformat": 4,
  "nbformat_minor": 0,
  "metadata": {
    "colab": {
      "provenance": [],
      "authorship_tag": "ABX9TyNK+0bzQcZMEc39GsTin9gr",
      "include_colab_link": true
    },
    "kernelspec": {
      "name": "python3",
      "display_name": "Python 3"
    },
    "language_info": {
      "name": "python"
    }
  },
  "cells": [
    {
      "cell_type": "markdown",
      "metadata": {
        "id": "view-in-github",
        "colab_type": "text"
      },
      "source": [
        "<a href=\"https://colab.research.google.com/github/mdhornstein/steins-paradox/blob/main/steins_paradox_simulation.ipynb\" target=\"_parent\"><img src=\"https://colab.research.google.com/assets/colab-badge.svg\" alt=\"Open In Colab\"/></a>"
      ]
    },
    {
      "cell_type": "code",
      "execution_count": 53,
      "metadata": {
        "id": "4Ypj9Xhw5eye"
      },
      "outputs": [],
      "source": [
        "import pandas as pd\n",
        "import numpy as np\n",
        "\n",
        "import matplotlib.pyplot as plt\n",
        "import plotly.graph_objects as go\n",
        "import plotly.express as px"
      ]
    },
    {
      "cell_type": "code",
      "source": [
        "p = 3\n",
        "theta = np.arange(1, 4)\n",
        "theta"
      ],
      "metadata": {
        "colab": {
          "base_uri": "https://localhost:8080/"
        },
        "id": "v3fput4X5ukv",
        "outputId": "a0342ba0-bb1f-4fb2-df29-b18fed0c699f"
      },
      "execution_count": 16,
      "outputs": [
        {
          "output_type": "execute_result",
          "data": {
            "text/plain": [
              "array([1, 2, 3])"
            ]
          },
          "metadata": {},
          "execution_count": 16
        }
      ]
    },
    {
      "cell_type": "code",
      "source": [
        "theta.shape"
      ],
      "metadata": {
        "colab": {
          "base_uri": "https://localhost:8080/"
        },
        "id": "WFWDgDry5yZd",
        "outputId": "742aef97-addc-4e53-da08-d9d1ff5aa8ec"
      },
      "execution_count": 17,
      "outputs": [
        {
          "output_type": "execute_result",
          "data": {
            "text/plain": [
              "(3,)"
            ]
          },
          "metadata": {},
          "execution_count": 17
        }
      ]
    },
    {
      "cell_type": "code",
      "source": [
        "n = 100\n",
        "rng = np.random.default_rng()\n",
        "x = rng.multivariate_normal(mean=theta, cov=np.eye(p), size=n)\n",
        "x[:10, :]"
      ],
      "metadata": {
        "colab": {
          "base_uri": "https://localhost:8080/"
        },
        "id": "GSunPhdg6oLs",
        "outputId": "f0b74c8c-d0c1-491d-ed79-fc26e918b966"
      },
      "execution_count": 42,
      "outputs": [
        {
          "output_type": "execute_result",
          "data": {
            "text/plain": [
              "array([[ 0.77552557,  1.39962849,  3.26135131],\n",
              "       [ 1.49108381,  1.33721397,  2.84910389],\n",
              "       [ 1.33918625,  2.64757133,  3.64352616],\n",
              "       [-0.11360548,  1.34838411,  2.92760429],\n",
              "       [ 3.59648439,  2.00967755,  2.72120434],\n",
              "       [ 0.52620065,  2.45847582,  2.85039112],\n",
              "       [ 0.10481701,  2.45799864,  3.72889626],\n",
              "       [ 1.43745394,  1.9707932 ,  1.69162692],\n",
              "       [ 1.89912508,  3.44691169,  4.12700329],\n",
              "       [ 1.39521975,  0.7410493 ,  3.9821186 ]])"
            ]
          },
          "metadata": {},
          "execution_count": 42
        }
      ]
    },
    {
      "cell_type": "code",
      "source": [
        "theta.reshape(-1, p)"
      ],
      "metadata": {
        "colab": {
          "base_uri": "https://localhost:8080/"
        },
        "id": "Zznucu-q7HcN",
        "outputId": "7b0c2f4c-cd19-4c64-a3c6-98319cda4194"
      },
      "execution_count": 43,
      "outputs": [
        {
          "output_type": "execute_result",
          "data": {
            "text/plain": [
              "array([[1, 2, 3]])"
            ]
          },
          "metadata": {},
          "execution_count": 43
        }
      ]
    },
    {
      "cell_type": "code",
      "source": [
        "errors = x - theta.reshape(-1, p)\n",
        "errors[:10, :]"
      ],
      "metadata": {
        "colab": {
          "base_uri": "https://localhost:8080/"
        },
        "id": "rW1JcHbr70sN",
        "outputId": "7192f44e-5fd8-4fd5-e97e-d7d50d82fc60"
      },
      "execution_count": 44,
      "outputs": [
        {
          "output_type": "execute_result",
          "data": {
            "text/plain": [
              "array([[-0.22447443, -0.60037151,  0.26135131],\n",
              "       [ 0.49108381, -0.66278603, -0.15089611],\n",
              "       [ 0.33918625,  0.64757133,  0.64352616],\n",
              "       [-1.11360548, -0.65161589, -0.07239571],\n",
              "       [ 2.59648439,  0.00967755, -0.27879566],\n",
              "       [-0.47379935,  0.45847582, -0.14960888],\n",
              "       [-0.89518299,  0.45799864,  0.72889626],\n",
              "       [ 0.43745394, -0.0292068 , -1.30837308],\n",
              "       [ 0.89912508,  1.44691169,  1.12700329],\n",
              "       [ 0.39521975, -1.2589507 ,  0.9821186 ]])"
            ]
          },
          "metadata": {},
          "execution_count": 44
        }
      ]
    },
    {
      "cell_type": "code",
      "source": [
        "fig, ax = plt.subplots()\n",
        "\n",
        "for column in errors.T:\n",
        "  ax.hist(column, alpha=0.5)\n",
        "\n",
        "ax.set_title(\"Histograms of errors\")"
      ],
      "metadata": {
        "colab": {
          "base_uri": "https://localhost:8080/",
          "height": 470
        },
        "id": "76WcgVzd8Nfd",
        "outputId": "b055a7e9-0066-4465-d507-15f1bb2be133"
      },
      "execution_count": 45,
      "outputs": [
        {
          "output_type": "execute_result",
          "data": {
            "text/plain": [
              "Text(0.5, 1.0, 'Histograms of errors')"
            ]
          },
          "metadata": {},
          "execution_count": 45
        },
        {
          "output_type": "display_data",
          "data": {
            "text/plain": [
              "<Figure size 640x480 with 1 Axes>"
            ],
            "image/png": "[encoded data removed]"
          },
          "metadata": {}
        }
      ]
    },
    {
      "cell_type": "code",
      "source": [
        "shrinkage_factors = (1 - (p - 2) / (x ** 2).sum(axis=1) )[:, np.newaxis]\n",
        "plt.hist(shrinkage_factors)"
      ],
      "metadata": {
        "colab": {
          "base_uri": "https://localhost:8080/",
          "height": 519
        },
        "id": "etcm07VY80z3",
        "outputId": "68c56eeb-e771-40e5-d400-235dc714de14"
      },
      "execution_count": 51,
      "outputs": [
        {
          "output_type": "execute_result",
          "data": {
            "text/plain": [
              "(array([ 3.,  1.,  0.,  3.,  3.,  4., 14., 24., 34., 14.]),\n",
              " array([0.78733741, 0.8064331 , 0.82552878, 0.84462446, 0.86372014,\n",
              "        0.88281582, 0.90191151, 0.92100719, 0.94010287, 0.95919855,\n",
              "        0.97829424]),\n",
              " <BarContainer object of 10 artists>)"
            ]
          },
          "metadata": {},
          "execution_count": 51
        },
        {
          "output_type": "display_data",
          "data": {
            "text/plain": [
              "<Figure size 640x480 with 1 Axes>"
            ],
            "image/png": "[encoded data removed]"
          },
          "metadata": {}
        }
      ]
    },
    {
      "cell_type": "code",
      "source": [
        "fig = px.histogram(\n",
        "    shrinkage_factors,\n",
        "    histnorm=\"probability\",\n",
        "    labels={\"value\": \"Shrinkage factor\"},\n",
        "    title=\"Histogram of shrinkage factors\")\n",
        "fig.update_layout(\n",
        "    yaxis_title=\"Proportion\",\n",
        "    showlegend=False,\n",
        "    height=400, width=600)\n",
        "fig.update_yaxes(tickformat=\".0%\")\n",
        "fig.show()"
      ],
      "metadata": {
        "colab": {
          "base_uri": "https://localhost:8080/",
          "height": 417
        },
        "id": "ja04lTW0AAeF",
        "outputId": "4b73d212-8b67-4a4c-8bbb-eb232e432bc7"
      },
      "execution_count": 85,
      "outputs": [
        {
          "output_type": "display_data",
          "data": {
            "text/html": [
              "<html>\n",
              "<head><meta charset=\"utf-8\" /></head>\n",
              "<body>\n",
              "    <div>            <script src=\"https://cdnjs.cloudflare.com/ajax/libs/mathjax/2.7.5/MathJax.js?config=TeX-AMS-MML_SVG\"></script><script type=\"text/javascript\">if (window.MathJax && window.MathJax.Hub && window.MathJax.Hub.Config) {window.MathJax.Hub.Config({SVG: {font: \"STIX-Web\"}});}</script>                <script type=\"text/javascript\">window.PlotlyConfig = {MathJaxConfig: 'local'};</script>\n",
              "        <script src=\"https://cdn.plot.ly/plotly-2.18.2.min.js\"></script>                <div id=\"004ada19-28f1-4d65-a91b-47008e18ba82\" class=\"plotly-graph-div\" style=\"height:400px; width:600px;\"></div>            <script type=\"text/javascript\">                                    window.PLOTLYENV=window.PLOTLYENV || {};                                    if (document.getElementById(\"004ada19-28f1-4d65-a91b-47008e18ba82\")) {                    Plotly.newPlot(                        \"004ada19-28f1-4d65-a91b-47008e18ba82\",                        [{\"alignmentgroup\":\"True\",\"bingroup\":\"x\",\"histnorm\":\"probability\",\"hovertemplate\":\"variable=0<br>Shrinkage factor=%{x}<br>probability=%{y}<extra></extra>\",\"legendgroup\":\"0\",\"marker\":{\"color\":\"#636efa\",\"pattern\":{\"shape\":\"\"}},\"name\":\"0\",\"offsetgroup\":\"0\",\"orientation\":\"v\",\"showlegend\":true,\"x\":[0.9242241243963578,0.9175520552272276,0.9547067328511724,0.903863835134421,0.9589801763953381,0.9307753438874053,0.9498933008427352,0.8865171129017657,0.9692497231901523,0.9455131756802541,0.8548742028966889,0.9514577539721124,0.9453150074948045,0.9530863072051424,0.9652191131179623,0.7873374144453734,0.8643064916376331,0.9373104532962713,0.9469248977412776,0.9177268681189256,0.9272596504751317,0.9630455730279499,0.9435483517897348,0.9766143561238576,0.9641472238891212,0.8589081597485354,0.9303295147070769,0.9423847742150065,0.9577368426334897,0.9114089041756219,0.8900261668178048,0.9393397332713104,0.9450109537614969,0.923869624707453,0.9457681680537225,0.9545612331366302,0.9014897866857301,0.8751092935302193,0.9367945451049278,0.7959618085755484,0.90624290492253,0.9566986861087282,0.9441160438291587,0.9392854345880421,0.9557206097112885,0.9199824219608969,0.9168257858341916,0.9224587542809921,0.9157869544723516,0.9651400003333946,0.9033091345060922,0.9633158282638016,0.9472685631430258,0.9559250510848817,0.9436816889290358,0.9272086536181823,0.9287141984377333,0.9166371083891668,0.9100817236882018,0.8722855022010225,0.9126288946484046,0.9257711245790545,0.9571836499825144,0.9167878990728444,0.9386725575057264,0.923706383438364,0.9314604521265826,0.9523587690259354,0.949094790030057,0.9493851326236025,0.9404560832085286,0.8218560831093247,0.9585482837241854,0.9684605636970154,0.976887778342113,0.9389110790847688,0.9547414252931411,0.9427405323260675,0.9287091447798599,0.9656727902628107,0.8998413811514236,0.9637869700718397,0.9558069813588909,0.9400997158290698,0.9412432422447408,0.9235435253652851,0.9362957236999627,0.9656889372809144,0.9422992147546344,0.9782942353334484,0.9317081176109384,0.9151804144448366,0.9386575919171154,0.9445405555882888,0.9231433617951847,0.9551015198749688,0.9631226016165211,0.7950404026927382,0.8597095562631842,0.9458803718607506],\"xaxis\":\"x\",\"yaxis\":\"y\",\"type\":\"histogram\"}],                        {\"template\":{\"data\":{\"histogram2dcontour\":[{\"type\":\"histogram2dcontour\",\"colorbar\":{\"outlinewidth\":0,\"ticks\":\"\"},\"colorscale\":[[0.0,\"#0d0887\"],[0.1111111111111111,\"#46039f\"],[0.2222222222222222,\"#7201a8\"],[0.3333333333333333,\"#9c179e\"],[0.4444444444444444,\"#bd3786\"],[0.5555555555555556,\"#d8576b\"],[0.6666666666666666,\"#ed7953\"],[0.7777777777777778,\"#fb9f3a\"],[0.8888888888888888,\"#fdca26\"],[1.0,\"#f0f921\"]]}],\"choropleth\":[{\"type\":\"choropleth\",\"colorbar\":{\"outlinewidth\":0,\"ticks\":\"\"}}],\"histogram2d\":[{\"type\":\"histogram2d\",\"colorbar\":{\"outlinewidth\":0,\"ticks\":\"\"},\"colorscale\":[[0.0,\"#0d0887\"],[0.1111111111111111,\"#46039f\"],[0.2222222222222222,\"#7201a8\"],[0.3333333333333333,\"#9c179e\"],[0.4444444444444444,\"#bd3786\"],[0.5555555555555556,\"#d8576b\"],[0.6666666666666666,\"#ed7953\"],[0.7777777777777778,\"#fb9f3a\"],[0.8888888888888888,\"#fdca26\"],[1.0,\"#f0f921\"]]}],\"heatmap\":[{\"type\":\"heatmap\",\"colorbar\":{\"outlinewidth\":0,\"ticks\":\"\"},\"colorscale\":[[0.0,\"#0d0887\"],[0.1111111111111111,\"#46039f\"],[0.2222222222222222,\"#7201a8\"],[0.3333333333333333,\"#9c179e\"],[0.4444444444444444,\"#bd3786\"],[0.5555555555555556,\"#d8576b\"],[0.6666666666666666,\"#ed7953\"],[0.7777777777777778,\"#fb9f3a\"],[0.8888888888888888,\"#fdca26\"],[1.0,\"#f0f921\"]]}],\"heatmapgl\":[{\"type\":\"heatmapgl\",\"colorbar\":{\"outlinewidth\":0,\"ticks\":\"\"},\"colorscale\":[[0.0,\"#0d0887\"],[0.1111111111111111,\"#46039f\"],[0.2222222222222222,\"#7201a8\"],[0.3333333333333333,\"#9c179e\"],[0.4444444444444444,\"#bd3786\"],[0.5555555555555556,\"#d8576b\"],[0.6666666666666666,\"#ed7953\"],[0.7777777777777778,\"#fb9f3a\"],[0.8888888888888888,\"#fdca26\"],[1.0,\"#f0f921\"]]}],\"contourcarpet\":[{\"type\":\"contourcarpet\",\"colorbar\":{\"outlinewidth\":0,\"ticks\":\"\"}}],\"contour\":[{\"type\":\"contour\",\"colorbar\":{\"outlinewidth\":0,\"ticks\":\"\"},\"colorscale\":[[0.0,\"#0d0887\"],[0.1111111111111111,\"#46039f\"],[0.2222222222222222,\"#7201a8\"],[0.3333333333333333,\"#9c179e\"],[0.4444444444444444,\"#bd3786\"],[0.5555555555555556,\"#d8576b\"],[0.6666666666666666,\"#ed7953\"],[0.7777777777777778,\"#fb9f3a\"],[0.8888888888888888,\"#fdca26\"],[1.0,\"#f0f921\"]]}],\"surface\":[{\"type\":\"surface\",\"colorbar\":{\"outlinewidth\":0,\"ticks\":\"\"},\"colorscale\":[[0.0,\"#0d0887\"],[0.1111111111111111,\"#46039f\"],[0.2222222222222222,\"#7201a8\"],[0.3333333333333333,\"#9c179e\"],[0.4444444444444444,\"#bd3786\"],[0.5555555555555556,\"#d8576b\"],[0.6666666666666666,\"#ed7953\"],[0.7777777777777778,\"#fb9f3a\"],[0.8888888888888888,\"#fdca26\"],[1.0,\"#f0f921\"]]}],\"mesh3d\":[{\"type\":\"mesh3d\",\"colorbar\":{\"outlinewidth\":0,\"ticks\":\"\"}}],\"scatter\":[{\"fillpattern\":{\"fillmode\":\"overlay\",\"size\":10,\"solidity\":0.2},\"type\":\"scatter\"}],\"parcoords\":[{\"type\":\"parcoords\",\"line\":{\"colorbar\":{\"outlinewidth\":0,\"ticks\":\"\"}}}],\"scatterpolargl\":[{\"type\":\"scatterpolargl\",\"marker\":{\"colorbar\":{\"outlinewidth\":0,\"ticks\":\"\"}}}],\"bar\":[{\"error_x\":{\"color\":\"#2a3f5f\"},\"error_y\":{\"color\":\"#2a3f5f\"},\"marker\":{\"line\":{\"color\":\"#E5ECF6\",\"width\":0.5},\"pattern\":{\"fillmode\":\"overlay\",\"size\":10,\"solidity\":0.2}},\"type\":\"bar\"}],\"scattergeo\":[{\"type\":\"scattergeo\",\"marker\":{\"colorbar\":{\"outlinewidth\":0,\"ticks\":\"\"}}}],\"scatterpolar\":[{\"type\":\"scatterpolar\",\"marker\":{\"colorbar\":{\"outlinewidth\":0,\"ticks\":\"\"}}}],\"histogram\":[{\"marker\":{\"pattern\":{\"fillmode\":\"overlay\",\"size\":10,\"solidity\":0.2}},\"type\":\"histogram\"}],\"scattergl\":[{\"type\":\"scattergl\",\"marker\":{\"colorbar\":{\"outlinewidth\":0,\"ticks\":\"\"}}}],\"scatter3d\":[{\"type\":\"scatter3d\",\"line\":{\"colorbar\":{\"outlinewidth\":0,\"ticks\":\"\"}},\"marker\":{\"colorbar\":{\"outlinewidth\":0,\"ticks\":\"\"}}}],\"scattermapbox\":[{\"type\":\"scattermapbox\",\"marker\":{\"colorbar\":{\"outlinewidth\":0,\"ticks\":\"\"}}}],\"scatterternary\":[{\"type\":\"scatterternary\",\"marker\":{\"colorbar\":{\"outlinewidth\":0,\"ticks\":\"\"}}}],\"scattercarpet\":[{\"type\":\"scattercarpet\",\"marker\":{\"colorbar\":{\"outlinewidth\":0,\"ticks\":\"\"}}}],\"carpet\":[{\"aaxis\":{\"endlinecolor\":\"#2a3f5f\",\"gridcolor\":\"white\",\"linecolor\":\"white\",\"minorgridcolor\":\"white\",\"startlinecolor\":\"#2a3f5f\"},\"baxis\":{\"endlinecolor\":\"#2a3f5f\",\"gridcolor\":\"white\",\"linecolor\":\"white\",\"minorgridcolor\":\"white\",\"startlinecolor\":\"#2a3f5f\"},\"type\":\"carpet\"}],\"table\":[{\"cells\":{\"fill\":{\"color\":\"#EBF0F8\"},\"line\":{\"color\":\"white\"}},\"header\":{\"fill\":{\"color\":\"#C8D4E3\"},\"line\":{\"color\":\"white\"}},\"type\":\"table\"}],\"barpolar\":[{\"marker\":{\"line\":{\"color\":\"#E5ECF6\",\"width\":0.5},\"pattern\":{\"fillmode\":\"overlay\",\"size\":10,\"solidity\":0.2}},\"type\":\"barpolar\"}],\"pie\":[{\"automargin\":true,\"type\":\"pie\"}]},\"layout\":{\"autotypenumbers\":\"strict\",\"colorway\":[\"#636efa\",\"#EF553B\",\"#00cc96\",\"#ab63fa\",\"#FFA15A\",\"#19d3f3\",\"#FF6692\",\"#B6E880\",\"#FF97FF\",\"#FECB52\"],\"font\":{\"color\":\"#2a3f5f\"},\"hovermode\":\"closest\",\"hoverlabel\":{\"align\":\"left\"},\"paper_bgcolor\":\"white\",\"plot_bgcolor\":\"#E5ECF6\",\"polar\":{\"bgcolor\":\"#E5ECF6\",\"angularaxis\":{\"gridcolor\":\"white\",\"linecolor\":\"white\",\"ticks\":\"\"},\"radialaxis\":{\"gridcolor\":\"white\",\"linecolor\":\"white\",\"ticks\":\"\"}},\"ternary\":{\"bgcolor\":\"#E5ECF6\",\"aaxis\":{\"gridcolor\":\"white\",\"linecolor\":\"white\",\"ticks\":\"\"},\"baxis\":{\"gridcolor\":\"white\",\"linecolor\":\"white\",\"ticks\":\"\"},\"caxis\":{\"gridcolor\":\"white\",\"linecolor\":\"white\",\"ticks\":\"\"}},\"coloraxis\":{\"colorbar\":{\"outlinewidth\":0,\"ticks\":\"\"}},\"colorscale\":{\"sequential\":[[0.0,\"#0d0887\"],[0.1111111111111111,\"#46039f\"],[0.2222222222222222,\"#7201a8\"],[0.3333333333333333,\"#9c179e\"],[0.4444444444444444,\"#bd3786\"],[0.5555555555555556,\"#d8576b\"],[0.6666666666666666,\"#ed7953\"],[0.7777777777777778,\"#fb9f3a\"],[0.8888888888888888,\"#fdca26\"],[1.0,\"#f0f921\"]],\"sequentialminus\":[[0.0,\"#0d0887\"],[0.1111111111111111,\"#46039f\"],[0.2222222222222222,\"#7201a8\"],[0.3333333333333333,\"#9c179e\"],[0.4444444444444444,\"#bd3786\"],[0.5555555555555556,\"#d8576b\"],[0.6666666666666666,\"#ed7953\"],[0.7777777777777778,\"#fb9f3a\"],[0.8888888888888888,\"#fdca26\"],[1.0,\"#f0f921\"]],\"diverging\":[[0,\"#8e0152\"],[0.1,\"#c51b7d\"],[0.2,\"#de77ae\"],[0.3,\"#f1b6da\"],[0.4,\"#fde0ef\"],[0.5,\"#f7f7f7\"],[0.6,\"#e6f5d0\"],[0.7,\"#b8e186\"],[0.8,\"#7fbc41\"],[0.9,\"#4d9221\"],[1,\"#276419\"]]},\"xaxis\":{\"gridcolor\":\"white\",\"linecolor\":\"white\",\"ticks\":\"\",\"title\":{\"standoff\":15},\"zerolinecolor\":\"white\",\"automargin\":true,\"zerolinewidth\":2},\"yaxis\":{\"gridcolor\":\"white\",\"linecolor\":\"white\",\"ticks\":\"\",\"title\":{\"standoff\":15},\"zerolinecolor\":\"white\",\"automargin\":true,\"zerolinewidth\":2},\"scene\":{\"xaxis\":{\"backgroundcolor\":\"#E5ECF6\",\"gridcolor\":\"white\",\"linecolor\":\"white\",\"showbackground\":true,\"ticks\":\"\",\"zerolinecolor\":\"white\",\"gridwidth\":2},\"yaxis\":{\"backgroundcolor\":\"#E5ECF6\",\"gridcolor\":\"white\",\"linecolor\":\"white\",\"showbackground\":true,\"ticks\":\"\",\"zerolinecolor\":\"white\",\"gridwidth\":2},\"zaxis\":{\"backgroundcolor\":\"#E5ECF6\",\"gridcolor\":\"white\",\"linecolor\":\"white\",\"showbackground\":true,\"ticks\":\"\",\"zerolinecolor\":\"white\",\"gridwidth\":2}},\"shapedefaults\":{\"line\":{\"color\":\"#2a3f5f\"}},\"annotationdefaults\":{\"arrowcolor\":\"#2a3f5f\",\"arrowhead\":0,\"arrowwidth\":1},\"geo\":{\"bgcolor\":\"white\",\"landcolor\":\"#E5ECF6\",\"subunitcolor\":\"white\",\"showland\":true,\"showlakes\":true,\"lakecolor\":\"white\"},\"title\":{\"x\":0.05},\"mapbox\":{\"style\":\"light\"}}},\"xaxis\":{\"anchor\":\"y\",\"domain\":[0.0,1.0],\"title\":{\"text\":\"Shrinkage factor\"}},\"yaxis\":{\"anchor\":\"x\",\"domain\":[0.0,1.0],\"title\":{\"text\":\"Proportion\"},\"tickformat\":\".0%\"},\"legend\":{\"title\":{\"text\":\"variable\"},\"tracegroupgap\":0},\"title\":{\"text\":\"Histogram of shrinkage factors\"},\"barmode\":\"relative\",\"showlegend\":false,\"height\":400,\"width\":600},                        {\"responsive\": true}                    ).then(function(){\n",
              "                            \n",
              "var gd = document.getElementById('004ada19-28f1-4d65-a91b-47008e18ba82');\n",
              "var x = new MutationObserver(function (mutations, observer) {{\n",
              "        var display = window.getComputedStyle(gd).display;\n",
              "        if (!display || display === 'none') {{\n",
              "            console.log([gd, 'removed!']);\n",
              "            Plotly.purge(gd);\n",
              "            observer.disconnect();\n",
              "        }}\n",
              "}});\n",
              "\n",
              "// Listen for the removal of the full notebook cells\n",
              "var notebookContainer = gd.closest('#notebook-container');\n",
              "if (notebookContainer) {{\n",
              "    x.observe(notebookContainer, {childList: true});\n",
              "}}\n",
              "\n",
              "// Listen for the clearing of the current output cell\n",
              "var outputEl = gd.closest('.output');\n",
              "if (outputEl) {{\n",
              "    x.observe(outputEl, {childList: true});\n",
              "}}\n",
              "\n",
              "                        })                };                            </script>        </div>\n",
              "</body>\n",
              "</html>"
            ]
          },
          "metadata": {}
        }
      ]
    },
    {
      "cell_type": "code",
      "source": [
        "def calculate_mse(X, theta):\n",
        "  p = len(theta)\n",
        "  assert X.shape[1] == p\n",
        "  theta = theta.reshape(1, p)\n",
        "  mse = ((X - theta) ** 2).sum(axis=1)\n",
        "  return mse\n",
        ""
      ],
      "metadata": {
        "id": "Sy-gBDiXDJU_"
      },
      "execution_count": 90,
      "outputs": []
    },
    {
      "cell_type": "code",
      "source": [
        "mse_sample_mean = calculate_mse(x, theta)"
      ],
      "metadata": {
        "id": "EoQFR4B4IBEE"
      },
      "execution_count": 92,
      "outputs": []
    },
    {
      "cell_type": "code",
      "source": [
        "plt.hist(mse_sample_mean)\n",
        "plt.show()"
      ],
      "metadata": {
        "colab": {
          "base_uri": "https://localhost:8080/",
          "height": 430
        },
        "id": "VOBIP9B0ICQ3",
        "outputId": "f7b113f7-c71c-48d0-a69c-6f579ef468c9"
      },
      "execution_count": 94,
      "outputs": [
        {
          "output_type": "display_data",
          "data": {
            "text/plain": [
              "<Figure size 640x480 with 1 Axes>"
            ],
            "image/png": "[encoded data removed]"
          },
          "metadata": {}
        }
      ]
    },
    {
      "cell_type": "code",
      "source": [
        "plt.hist((x - theta.reshape(1, p)).mean(axis=1))"
      ],
      "metadata": {
        "colab": {
          "base_uri": "https://localhost:8080/",
          "height": 521
        },
        "id": "idGlGs8GIcxh",
        "outputId": "69c5cde5-c52f-42af-a2fe-0cc59f84f0a2"
      },
      "execution_count": 97,
      "outputs": [
        {
          "output_type": "execute_result",
          "data": {
            "text/plain": [
              "(array([ 3.,  2.,  9., 20., 24., 23., 10.,  5.,  2.,  2.]),\n",
              " array([-1.47579062, -1.14864964, -0.82150867, -0.4943677 , -0.16722672,\n",
              "         0.15991425,  0.48705522,  0.8141962 ,  1.14133717,  1.46847814,\n",
              "         1.79561912]),\n",
              " <BarContainer object of 10 artists>)"
            ]
          },
          "metadata": {},
          "execution_count": 97
        },
        {
          "output_type": "display_data",
          "data": {
            "text/plain": [
              "<Figure size 640x480 with 1 Axes>"
            ],
            "image/png": "[encoded data removed]"
          },
          "metadata": {}
        }
      ]
    },
    {
      "cell_type": "code",
      "source": [
        "stein_estimators = x * shrinkage_factors.reshape(n, 1)"
      ],
      "metadata": {
        "id": "Efd-Aax3Ioqd"
      },
      "execution_count": 99,
      "outputs": []
    },
    {
      "cell_type": "markdown",
      "source": [
        "We calcualate the loss for each sample (since there are $n$ samples, there are $n$ values for the loss). The loss is the Euclidean distance between the sample $X_i \\in \\mathbb{R}^p$ and the true unknown parameter vector $\\theta \\in \\mathbb{R}^p$.  That is, the loss for the $i$th sample is $L(X_i, \\theta) = \\lVert X_i - \\theta \\rVert_2^2$."
      ],
      "metadata": {
        "id": "QbYXcSrsJocR"
      }
    },
    {
      "cell_type": "code",
      "source": [
        "mse_stein = calculate_mse(stein_estimators, theta)"
      ],
      "metadata": {
        "id": "1ecGkQoSJHrx"
      },
      "execution_count": 100,
      "outputs": []
    },
    {
      "cell_type": "markdown",
      "source": [
        "The estimate of the risk is the average of the loss over all $n$ samples,\n",
        "$$\\frac{1}{n} \\sum_{i = 1}^n L(X_i, \\theta) = \\frac{1}{n} \\sum_{i = 1}^n \\lVert X_i - \\theta \\rVert_2^2.\n",
        "$$"
      ],
      "metadata": {
        "id": "3FPmNlQBKZuJ"
      }
    },
    {
      "cell_type": "code",
      "source": [
        "{\n",
        "    \"Stein risk\": np.mean(mse_stein),\n",
        "    \"Sample mean risk\": np.mean(mse_sample_mean)\n",
        "}"
      ],
      "metadata": {
        "colab": {
          "base_uri": "https://localhost:8080/"
        },
        "id": "xP6V_J8FJOIS",
        "outputId": "8969b56f-6a38-46cd-a8e1-6dcb1e8d9391"
      },
      "execution_count": 102,
      "outputs": [
        {
          "output_type": "execute_result",
          "data": {
            "text/plain": [
              "{'Stein risk': 2.5729866369451395, 'Sample mean risk': 2.7006470609669346}"
            ]
          },
          "metadata": {},
          "execution_count": 102
        }
      ]
    },
    {
      "cell_type": "code",
      "source": [
        "class SteinSimulation:\n",
        "  \"\"\"\n",
        "  The class stores simulation parameters as instance variables:\n",
        "    theta: true vector of unknown parameters\n",
        "    p: dimension of theta\n",
        "    sigma_sq: variance scaling factor of the multivariate normal distribution\n",
        "    n: number of samples\n",
        "    store_data: whether to store the full data matrix\n",
        "\n",
        "  To run the simulation, call the instance method run_simulation().\n",
        "\n",
        "  When the simulation runs, the outputs (including shrinkage factors for\n",
        "  Stein's estimators, and loss/mse for both the naive estimator and Stein's\n",
        "  estimator) are stored in the dictionary self.sim_data.\n",
        "\n",
        "  Rerunning the simulation (by calling self.run_simulation) overwrites the\n",
        "  data in self.sim_data.  Thus, sim_data stores the results of the most recent\n",
        "  run of the simulation.\n",
        "  \"\"\"\n",
        "  def __init__(self, theta, sigma_sq, n, store_data=False, seed=None):\n",
        "    # Simulation parameters\n",
        "    self.p = len(theta)\n",
        "    self.theta = theta\n",
        "    self.sigma_sq = sigma_sq\n",
        "    self.n = n\n",
        "    self.store_data = store_data\n",
        "\n",
        "    # Simulation outputs\n",
        "    self.sim_data = {}\n",
        "\n",
        "    # RNG\n",
        "    self.seed = seed\n",
        "    self.rng = np.random.default_rng(seed)\n",
        "\n",
        "  @staticmethod\n",
        "  def calculate_loss(X, theta):\n",
        "    assert X.shape[1] == len(theta)\n",
        "    squared_errors = (X - theta.reshape(1, -1)) ** 2\n",
        "    loss = squared_errors.mean(axis=0)\n",
        "    return loss\n",
        "\n",
        "  def run_simulation(self):\n",
        "    X = rng.multivariate_normal(\n",
        "        mean=self.theta,\n",
        "        cov=self.sigma_sq * np.eye(self.p),\n",
        "        size=self.n)\n",
        "\n",
        "    loss = self.calculate_loss(X, self.theta)\n",
        "    mse = np.mean(loss)\n",
        "\n",
        "    stein_estimators, shrinkage_factors = self.calculate_stein_estimators(X)\n",
        "    loss_stein = self.calculate_loss(stein_estimators, self.theta)\n",
        "    mse_stein = np.mean(loss_stein)\n",
        "\n",
        "    self.sim_data[\"shrinkage_factors\"] = shrinkage_factors\n",
        "    self.sim_data[\"loss\"] = loss\n",
        "    self.sim_data[\"mse\"] = mse\n",
        "    self.sim_data[\"loss_stein\"] = loss_stein\n",
        "    self.sim_data[\"mse_stein\"] = mse_stein\n",
        "    if self.store_data:\n",
        "      self.sim_data[\"X\"] = X\n",
        "\n",
        "  def calculate_stein_estimators(self, X):\n",
        "    shrinkage_factors = 1 - (self.p - 2) * self.sigma_sq / (X ** 2).sum(axis=1)\n",
        "    shrinkage_factors = shrinkage_factors.reshape(self.n, 1)\n",
        "    stein_estimators = X * shrinkage_factors\n",
        "    return stein_estimators, shrinkage_factors\n",
        "\n",
        "\n"
      ],
      "metadata": {
        "id": "u7SB3bcFJTkK"
      },
      "execution_count": 122,
      "outputs": []
    },
    {
      "cell_type": "code",
      "source": [
        "theta = 0.001 * np.ones(shape=4)\n",
        "sigma_sq = 1\n",
        "n = 1000\n",
        "sim = SteinSimulation(theta, sigma_sq, n)\n",
        "sim.run_simulation()"
      ],
      "metadata": {
        "id": "PEKG3xBgb3Xo"
      },
      "execution_count": 136,
      "outputs": []
    },
    {
      "cell_type": "code",
      "source": [
        "sim.sim_data[\"mse\"]"
      ],
      "metadata": {
        "colab": {
          "base_uri": "https://localhost:8080/"
        },
        "id": "X9dXA9CTcIAr",
        "outputId": "f54d3005-f913-4b82-8a01-95b36cd61194"
      },
      "execution_count": 137,
      "outputs": [
        {
          "output_type": "execute_result",
          "data": {
            "text/plain": [
              "0.9870417834219087"
            ]
          },
          "metadata": {},
          "execution_count": 137
        }
      ]
    },
    {
      "cell_type": "code",
      "source": [
        "sim.sim_data[\"mse_stein\"]"
      ],
      "metadata": {
        "colab": {
          "base_uri": "https://localhost:8080/"
        },
        "id": "5Z0crt6Mc-uS",
        "outputId": "cee9016b-7b33-46e7-f182-3b01053dfb5e"
      },
      "execution_count": 138,
      "outputs": [
        {
          "output_type": "execute_result",
          "data": {
            "text/plain": [
              "0.5237584969029632"
            ]
          },
          "metadata": {},
          "execution_count": 138
        }
      ]
    },
    {
      "cell_type": "code",
      "source": [
        "plt.hist(sim.sim_data[\"shrinkage_factors\"], bins=100)\n",
        "plt.show()"
      ],
      "metadata": {
        "colab": {
          "base_uri": "https://localhost:8080/",
          "height": 430
        },
        "id": "zDkZdr3idBhT",
        "outputId": "dc557e7d-bb88-404a-c601-fbc7649a3d02"
      },
      "execution_count": 129,
      "outputs": [
        {
          "output_type": "display_data",
          "data": {
            "text/plain": [
              "<Figure size 640x480 with 1 Axes>"
            ],
            "image/png": "[encoded data removed]"
          },
          "metadata": {}
        }
      ]
    },
    {
      "cell_type": "code",
      "source": [],
      "metadata": {
        "id": "g4lzuSLHdFX_"
      },
      "execution_count": null,
      "outputs": []
    }
  ]
}